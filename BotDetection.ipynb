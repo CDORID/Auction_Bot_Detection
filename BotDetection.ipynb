{
 "cells": [
  {
   "cell_type": "markdown",
   "metadata": {},
   "source": [
    "# Python Project : Bot detection \n",
    "    \n",
    "An auction website has a huge problems. A lot of accounts are actually bots that will do the betting and have a strong edge over the users. The website wants to find a way to detect the bots in order to kick them out of the system and then create a bettre experience for the customers.\n",
    "\n",
    "To answer this problematic, we have a database of more than 7.5 Millions observations of betting, linked to the account with these differents observations : \n",
    "    \n",
    "    bid_id - unique id for this bid\n",
    "    bidder_id – Unique identifier of a bidder\n",
    "    auction – Unique identifier of an auction\n",
    "    merchandise –  The category of the auction site campaign, which means the bidder might come to this site by way of searching for \"home goods\" but ended up bidding for \"sporting goods\" - and that leads to this field being \"home goods\". This categorical field could be a search term, or online advertisement. \n",
    "    device – Phone model of a visitor\n",
    "    time - Time that the bid is made.\n",
    "    country - The country that the IP belongs to\n",
    "    ip – IP address of a bidder.\n",
    "    url - url where the bidder was referred from. \n",
    "    \n",
    "We also have a train dataset with the bidders with : \n",
    "\n",
    "    bidder_id – Unique identifier of a bidder.\n",
    "    payment_account – Payment account associated with a bidder. These are obfuscated to protect privacy. \n",
    "    address – Mailing address of a bidder. These are obfuscated to protect privacy. \n",
    "    outcome – Label of a bidder indicating whether or not it is a robot. Value 1.0 indicates a robot, where value 0.0 indicates human. \n",
    "    \n",
    "Here is a summary of the framework : \n",
    "    - Quick overview of the data and creation of new variables based on how we understand the problem\n",
    "    - EDA of the data and new variables given\n",
    "    - Utilization of the EDA to create second order variables\n",
    "    - Creation of the prediction model\n",
    "    "
   ]
  },
  {
   "cell_type": "markdown",
   "metadata": {},
   "source": [
    "### Libraries"
   ]
  },
  {
   "cell_type": "code",
   "execution_count": 1,
   "metadata": {},
   "outputs": [],
   "source": [
    "import pandas as pd\n",
    "import numpy as np\n",
    "import csv\n",
    "import matplotlib.pyplot as plt\n",
    "import matplotlib.cm as cm\n",
    "import math \n",
    "from xgboost import XGBClassifier\n",
    "from sklearn.model_selection import train_test_split\n",
    "from sklearn.metrics import accuracy_score\n",
    "from sklearn.model_selection import KFold\n",
    "from sklearn.model_selection import cross_val_score\n",
    "from sklearn.metrics import auc\n",
    "from sklearn.metrics import confusion_matrix\n",
    "from sklearn.model_selection import GridSearchCV\n",
    "from sklearn.model_selection import StratifiedKFold"
   ]
  },
  {
   "cell_type": "markdown",
   "metadata": {},
   "source": [
    "# 1 - Data frame quick overview and variables creation"
   ]
  },
  {
   "cell_type": "markdown",
   "metadata": {},
   "source": [
    "If it is unusual to create new variables before even doing an EDA, it will be here extremely useful. In fact, it is difficult to predict and analyze anything from the variables given. Being in a time-serie context and having to predict something that is directed towards the accounts and not the bids (which is the main informative dataframe) put us in a context where we have to modify the data before even going into an EDA\n",
    "Here lets have an overview of what we have :"
   ]
  },
  {
   "cell_type": "code",
   "execution_count": 2,
   "metadata": {},
   "outputs": [
    {
     "name": "stderr",
     "output_type": "stream",
     "text": [
      "D:\\Program Files (x86)\\Anaconda\\lib\\site-packages\\numpy\\lib\\arraysetops.py:569: FutureWarning: elementwise comparison failed; returning scalar instead, but in the future will perform elementwise comparison\n",
      "  mask |= (ar1 == a)\n"
     ]
    }
   ],
   "source": [
    "bids = pd.read_csv(\"Downloads/bids.csv\",index_col = \"bid_id\")\n",
    "train = pd.read_csv(\"Downloads/train.csv\")"
   ]
  },
  {
   "cell_type": "code",
   "execution_count": 3,
   "metadata": {},
   "outputs": [
    {
     "name": "stdout",
     "output_type": "stream",
     "text": [
      "(7656334, 8)\n"
     ]
    },
    {
     "data": {
      "text/html": [
       "<div>\n",
       "<style scoped>\n",
       "    .dataframe tbody tr th:only-of-type {\n",
       "        vertical-align: middle;\n",
       "    }\n",
       "\n",
       "    .dataframe tbody tr th {\n",
       "        vertical-align: top;\n",
       "    }\n",
       "\n",
       "    .dataframe thead th {\n",
       "        text-align: right;\n",
       "    }\n",
       "</style>\n",
       "<table border=\"1\" class=\"dataframe\">\n",
       "  <thead>\n",
       "    <tr style=\"text-align: right;\">\n",
       "      <th></th>\n",
       "      <th>bidder_id</th>\n",
       "      <th>auction</th>\n",
       "      <th>merchandise</th>\n",
       "      <th>device</th>\n",
       "      <th>time</th>\n",
       "      <th>country</th>\n",
       "      <th>ip</th>\n",
       "      <th>url</th>\n",
       "    </tr>\n",
       "    <tr>\n",
       "      <th>bid_id</th>\n",
       "      <th></th>\n",
       "      <th></th>\n",
       "      <th></th>\n",
       "      <th></th>\n",
       "      <th></th>\n",
       "      <th></th>\n",
       "      <th></th>\n",
       "      <th></th>\n",
       "    </tr>\n",
       "  </thead>\n",
       "  <tbody>\n",
       "    <tr>\n",
       "      <th>0</th>\n",
       "      <td>8dac2b259fd1c6d1120e519fb1ac14fbqvax8</td>\n",
       "      <td>ewmzr</td>\n",
       "      <td>jewelry</td>\n",
       "      <td>phone0</td>\n",
       "      <td>9759243157894736</td>\n",
       "      <td>us</td>\n",
       "      <td>69.166.231.58</td>\n",
       "      <td>vasstdc27m7nks3</td>\n",
       "    </tr>\n",
       "    <tr>\n",
       "      <th>1</th>\n",
       "      <td>668d393e858e8126275433046bbd35c6tywop</td>\n",
       "      <td>aeqok</td>\n",
       "      <td>furniture</td>\n",
       "      <td>phone1</td>\n",
       "      <td>9759243157894736</td>\n",
       "      <td>in</td>\n",
       "      <td>50.201.125.84</td>\n",
       "      <td>jmqlhflrzwuay9c</td>\n",
       "    </tr>\n",
       "    <tr>\n",
       "      <th>2</th>\n",
       "      <td>aa5f360084278b35d746fa6af3a7a1a5ra3xe</td>\n",
       "      <td>wa00e</td>\n",
       "      <td>home goods</td>\n",
       "      <td>phone2</td>\n",
       "      <td>9759243157894736</td>\n",
       "      <td>py</td>\n",
       "      <td>112.54.208.157</td>\n",
       "      <td>vasstdc27m7nks3</td>\n",
       "    </tr>\n",
       "    <tr>\n",
       "      <th>3</th>\n",
       "      <td>3939ac3ef7d472a59a9c5f893dd3e39fh9ofi</td>\n",
       "      <td>jefix</td>\n",
       "      <td>jewelry</td>\n",
       "      <td>phone4</td>\n",
       "      <td>9759243157894736</td>\n",
       "      <td>in</td>\n",
       "      <td>18.99.175.133</td>\n",
       "      <td>vasstdc27m7nks3</td>\n",
       "    </tr>\n",
       "    <tr>\n",
       "      <th>4</th>\n",
       "      <td>8393c48eaf4b8fa96886edc7cf27b372dsibi</td>\n",
       "      <td>jefix</td>\n",
       "      <td>jewelry</td>\n",
       "      <td>phone5</td>\n",
       "      <td>9759243157894736</td>\n",
       "      <td>in</td>\n",
       "      <td>145.138.5.37</td>\n",
       "      <td>vasstdc27m7nks3</td>\n",
       "    </tr>\n",
       "    <tr>\n",
       "      <th>5</th>\n",
       "      <td>e8291466de91b0eb4e1515143c7f74dexy2yr</td>\n",
       "      <td>3vi4t</td>\n",
       "      <td>mobile</td>\n",
       "      <td>phone7</td>\n",
       "      <td>9759243157894736</td>\n",
       "      <td>ru</td>\n",
       "      <td>91.107.221.27</td>\n",
       "      <td>vasstdc27m7nks3</td>\n",
       "    </tr>\n",
       "    <tr>\n",
       "      <th>6</th>\n",
       "      <td>eef4c687daf977f64fc1d08675c44444raj3s</td>\n",
       "      <td>kjlzx</td>\n",
       "      <td>mobile</td>\n",
       "      <td>phone2</td>\n",
       "      <td>9759243210526315</td>\n",
       "      <td>th</td>\n",
       "      <td>152.235.155.159</td>\n",
       "      <td>j9nl1xmo6fqhcc6</td>\n",
       "    </tr>\n",
       "    <tr>\n",
       "      <th>7</th>\n",
       "      <td>ab056855c9ca9d36390feae1fa485883issyg</td>\n",
       "      <td>f5f6k</td>\n",
       "      <td>home goods</td>\n",
       "      <td>phone8</td>\n",
       "      <td>9759243210526315</td>\n",
       "      <td>id</td>\n",
       "      <td>3.210.112.183</td>\n",
       "      <td>hnt6hu93a3z1cpc</td>\n",
       "    </tr>\n",
       "    <tr>\n",
       "      <th>8</th>\n",
       "      <td>d600dc03b11e7d782e1e4dae091b084a1h5ch</td>\n",
       "      <td>h7jjx</td>\n",
       "      <td>home goods</td>\n",
       "      <td>phone9</td>\n",
       "      <td>9759243210526315</td>\n",
       "      <td>th</td>\n",
       "      <td>103.64.157.225</td>\n",
       "      <td>vasstdc27m7nks3</td>\n",
       "    </tr>\n",
       "    <tr>\n",
       "      <th>9</th>\n",
       "      <td>a58ace8b671a7531c88814bc86b2a34cf0crb</td>\n",
       "      <td>3zpkj</td>\n",
       "      <td>sporting goods</td>\n",
       "      <td>phone4</td>\n",
       "      <td>9759243210526315</td>\n",
       "      <td>za</td>\n",
       "      <td>123.28.123.226</td>\n",
       "      <td>vasstdc27m7nks3</td>\n",
       "    </tr>\n",
       "  </tbody>\n",
       "</table>\n",
       "</div>"
      ],
      "text/plain": [
       "                                    bidder_id auction     merchandise  device  \\\n",
       "bid_id                                                                          \n",
       "0       8dac2b259fd1c6d1120e519fb1ac14fbqvax8   ewmzr         jewelry  phone0   \n",
       "1       668d393e858e8126275433046bbd35c6tywop   aeqok       furniture  phone1   \n",
       "2       aa5f360084278b35d746fa6af3a7a1a5ra3xe   wa00e      home goods  phone2   \n",
       "3       3939ac3ef7d472a59a9c5f893dd3e39fh9ofi   jefix         jewelry  phone4   \n",
       "4       8393c48eaf4b8fa96886edc7cf27b372dsibi   jefix         jewelry  phone5   \n",
       "5       e8291466de91b0eb4e1515143c7f74dexy2yr   3vi4t          mobile  phone7   \n",
       "6       eef4c687daf977f64fc1d08675c44444raj3s   kjlzx          mobile  phone2   \n",
       "7       ab056855c9ca9d36390feae1fa485883issyg   f5f6k      home goods  phone8   \n",
       "8       d600dc03b11e7d782e1e4dae091b084a1h5ch   h7jjx      home goods  phone9   \n",
       "9       a58ace8b671a7531c88814bc86b2a34cf0crb   3zpkj  sporting goods  phone4   \n",
       "\n",
       "                    time country               ip              url  \n",
       "bid_id                                                              \n",
       "0       9759243157894736      us    69.166.231.58  vasstdc27m7nks3  \n",
       "1       9759243157894736      in    50.201.125.84  jmqlhflrzwuay9c  \n",
       "2       9759243157894736      py   112.54.208.157  vasstdc27m7nks3  \n",
       "3       9759243157894736      in    18.99.175.133  vasstdc27m7nks3  \n",
       "4       9759243157894736      in     145.138.5.37  vasstdc27m7nks3  \n",
       "5       9759243157894736      ru    91.107.221.27  vasstdc27m7nks3  \n",
       "6       9759243210526315      th  152.235.155.159  j9nl1xmo6fqhcc6  \n",
       "7       9759243210526315      id    3.210.112.183  hnt6hu93a3z1cpc  \n",
       "8       9759243210526315      th   103.64.157.225  vasstdc27m7nks3  \n",
       "9       9759243210526315      za   123.28.123.226  vasstdc27m7nks3  "
      ]
     },
     "execution_count": 3,
     "metadata": {},
     "output_type": "execute_result"
    }
   ],
   "source": [
    "print(bids.shape)\n",
    "bids.head(10)"
   ]
  },
  {
   "cell_type": "code",
   "execution_count": 4,
   "metadata": {},
   "outputs": [
    {
     "name": "stdout",
     "output_type": "stream",
     "text": [
      "(2013, 4)\n"
     ]
    },
    {
     "data": {
      "text/html": [
       "<div>\n",
       "<style scoped>\n",
       "    .dataframe tbody tr th:only-of-type {\n",
       "        vertical-align: middle;\n",
       "    }\n",
       "\n",
       "    .dataframe tbody tr th {\n",
       "        vertical-align: top;\n",
       "    }\n",
       "\n",
       "    .dataframe thead th {\n",
       "        text-align: right;\n",
       "    }\n",
       "</style>\n",
       "<table border=\"1\" class=\"dataframe\">\n",
       "  <thead>\n",
       "    <tr style=\"text-align: right;\">\n",
       "      <th></th>\n",
       "      <th>bidder_id</th>\n",
       "      <th>payment_account</th>\n",
       "      <th>address</th>\n",
       "      <th>outcome</th>\n",
       "    </tr>\n",
       "  </thead>\n",
       "  <tbody>\n",
       "    <tr>\n",
       "      <th>0</th>\n",
       "      <td>91a3c57b13234af24875c56fb7e2b2f4rb56a</td>\n",
       "      <td>a3d2de7675556553a5f08e4c88d2c228754av</td>\n",
       "      <td>a3d2de7675556553a5f08e4c88d2c228vt0u4</td>\n",
       "      <td>0.0</td>\n",
       "    </tr>\n",
       "    <tr>\n",
       "      <th>1</th>\n",
       "      <td>624f258b49e77713fc34034560f93fb3hu3jo</td>\n",
       "      <td>a3d2de7675556553a5f08e4c88d2c228v1sga</td>\n",
       "      <td>ae87054e5a97a8f840a3991d12611fdcrfbq3</td>\n",
       "      <td>0.0</td>\n",
       "    </tr>\n",
       "    <tr>\n",
       "      <th>2</th>\n",
       "      <td>1c5f4fc669099bfbfac515cd26997bd12ruaj</td>\n",
       "      <td>a3d2de7675556553a5f08e4c88d2c2280cybl</td>\n",
       "      <td>92520288b50f03907041887884ba49c0cl0pd</td>\n",
       "      <td>0.0</td>\n",
       "    </tr>\n",
       "    <tr>\n",
       "      <th>3</th>\n",
       "      <td>4bee9aba2abda51bf43d639013d6efe12iycd</td>\n",
       "      <td>51d80e233f7b6a7dfdee484a3c120f3b2ita8</td>\n",
       "      <td>4cb9717c8ad7e88a9a284989dd79b98dbevyi</td>\n",
       "      <td>0.0</td>\n",
       "    </tr>\n",
       "    <tr>\n",
       "      <th>4</th>\n",
       "      <td>4ab12bc61c82ddd9c2d65e60555808acqgos1</td>\n",
       "      <td>a3d2de7675556553a5f08e4c88d2c22857ddh</td>\n",
       "      <td>2a96c3ce94b3be921e0296097b88b56a7x1ji</td>\n",
       "      <td>0.0</td>\n",
       "    </tr>\n",
       "    <tr>\n",
       "      <th>5</th>\n",
       "      <td>7eaefc97fbf6af12e930528151f86eb91bafh</td>\n",
       "      <td>a3d2de7675556553a5f08e4c88d2c228yory1</td>\n",
       "      <td>5a1d8f28bc31aa6d72bef2d8fbf48b967hra3</td>\n",
       "      <td>0.0</td>\n",
       "    </tr>\n",
       "    <tr>\n",
       "      <th>6</th>\n",
       "      <td>25558d24bca82beef0f9db4ba1fe2045ynnvq</td>\n",
       "      <td>81580585d4dedd473da11aabf37fe9d4e2s2n</td>\n",
       "      <td>9a6d81115b9b653ba326eb510e9163b47drqj</td>\n",
       "      <td>0.0</td>\n",
       "    </tr>\n",
       "    <tr>\n",
       "      <th>7</th>\n",
       "      <td>88ae7a35e374a6fddd079ebb28c822eeohwse</td>\n",
       "      <td>a3d2de7675556553a5f08e4c88d2c2289zref</td>\n",
       "      <td>3a7e6a32b24aeab0688e91a41f3188e22iuec</td>\n",
       "      <td>0.0</td>\n",
       "    </tr>\n",
       "    <tr>\n",
       "      <th>8</th>\n",
       "      <td>57db69e32163f3e486dc6ef7d615aa12usje6</td>\n",
       "      <td>bf1c3151cc309308077ad0ccb99779ad12apw</td>\n",
       "      <td>31b95425d178b89fd7306762bb48bfb5n04sj</td>\n",
       "      <td>0.0</td>\n",
       "    </tr>\n",
       "    <tr>\n",
       "      <th>9</th>\n",
       "      <td>d1be739798ba0745a1fd72ac918a9f1929hei</td>\n",
       "      <td>f49162ea9903fc00e4721d2f7972df9d6az4s</td>\n",
       "      <td>5b1f6e97a1cc27cd7fa9a3fe17eccd2a6mpdv</td>\n",
       "      <td>0.0</td>\n",
       "    </tr>\n",
       "  </tbody>\n",
       "</table>\n",
       "</div>"
      ],
      "text/plain": [
       "                               bidder_id  \\\n",
       "0  91a3c57b13234af24875c56fb7e2b2f4rb56a   \n",
       "1  624f258b49e77713fc34034560f93fb3hu3jo   \n",
       "2  1c5f4fc669099bfbfac515cd26997bd12ruaj   \n",
       "3  4bee9aba2abda51bf43d639013d6efe12iycd   \n",
       "4  4ab12bc61c82ddd9c2d65e60555808acqgos1   \n",
       "5  7eaefc97fbf6af12e930528151f86eb91bafh   \n",
       "6  25558d24bca82beef0f9db4ba1fe2045ynnvq   \n",
       "7  88ae7a35e374a6fddd079ebb28c822eeohwse   \n",
       "8  57db69e32163f3e486dc6ef7d615aa12usje6   \n",
       "9  d1be739798ba0745a1fd72ac918a9f1929hei   \n",
       "\n",
       "                         payment_account  \\\n",
       "0  a3d2de7675556553a5f08e4c88d2c228754av   \n",
       "1  a3d2de7675556553a5f08e4c88d2c228v1sga   \n",
       "2  a3d2de7675556553a5f08e4c88d2c2280cybl   \n",
       "3  51d80e233f7b6a7dfdee484a3c120f3b2ita8   \n",
       "4  a3d2de7675556553a5f08e4c88d2c22857ddh   \n",
       "5  a3d2de7675556553a5f08e4c88d2c228yory1   \n",
       "6  81580585d4dedd473da11aabf37fe9d4e2s2n   \n",
       "7  a3d2de7675556553a5f08e4c88d2c2289zref   \n",
       "8  bf1c3151cc309308077ad0ccb99779ad12apw   \n",
       "9  f49162ea9903fc00e4721d2f7972df9d6az4s   \n",
       "\n",
       "                                 address  outcome  \n",
       "0  a3d2de7675556553a5f08e4c88d2c228vt0u4      0.0  \n",
       "1  ae87054e5a97a8f840a3991d12611fdcrfbq3      0.0  \n",
       "2  92520288b50f03907041887884ba49c0cl0pd      0.0  \n",
       "3  4cb9717c8ad7e88a9a284989dd79b98dbevyi      0.0  \n",
       "4  2a96c3ce94b3be921e0296097b88b56a7x1ji      0.0  \n",
       "5  5a1d8f28bc31aa6d72bef2d8fbf48b967hra3      0.0  \n",
       "6  9a6d81115b9b653ba326eb510e9163b47drqj      0.0  \n",
       "7  3a7e6a32b24aeab0688e91a41f3188e22iuec      0.0  \n",
       "8  31b95425d178b89fd7306762bb48bfb5n04sj      0.0  \n",
       "9  5b1f6e97a1cc27cd7fa9a3fe17eccd2a6mpdv      0.0  "
      ]
     },
     "execution_count": 4,
     "metadata": {},
     "output_type": "execute_result"
    }
   ],
   "source": [
    "print(train.shape)\n",
    "train.head(10)"
   ]
  },
  {
   "cell_type": "code",
   "execution_count": 5,
   "metadata": {},
   "outputs": [
    {
     "name": "stdout",
     "output_type": "stream",
     "text": [
      "(103, 4)\n",
      "(1910, 4)\n"
     ]
    }
   ],
   "source": [
    "print(train[train.outcome == 1].shape)\n",
    "print(train[train.outcome == 0].shape)\n"
   ]
  },
  {
   "cell_type": "code",
   "execution_count": 6,
   "metadata": {},
   "outputs": [
    {
     "data": {
      "text/plain": [
       "(7656334, 8)"
      ]
     },
     "execution_count": 6,
     "metadata": {},
     "output_type": "execute_result"
    }
   ],
   "source": [
    "bids.shape"
   ]
  },
  {
   "cell_type": "markdown",
   "metadata": {},
   "source": [
    "Creating the first values that could be interesting based on our intuition:\n",
    "    - deltatime_id: The time difference between two bets by the same user\n",
    "            We assume that putting three bids in the same second could be suspicious\n",
    "    - deltatime_auction: The time difference between a new bet and the last one put in the same auction\n",
    "            Also, it looks suscpicious if an account is always able to put a new bet nearly instantly after someone betted\n",
    "    - nbids: The number of bids made by the same account\n",
    "            This will be an important factor. Having a high number of bids does not necessarly imply that it is a bot. Nonetheless we think this factor could help us determine some susipicious behaviours\n",
    "    - bids_per_auction: The number of bids made by the same user per auction.\n",
    "    - mean_deltatime_id: The average time length between 2 bids for the same user.\n",
    "    - mean_deltatime_auction_id: The average time length between 2 bids for the same user for the same auction.\n",
    "    - min_deltatime_per_auction_per_id: The minimum time difference between bids per user for each auction.\n",
    "    - number_ip_per_id: The number of ips used by each user.\n",
    "    - number_url_per_idL the number of urls used by each user."
   ]
  },
  {
   "cell_type": "code",
   "execution_count": 7,
   "metadata": {},
   "outputs": [
    {
     "data": {
      "text/plain": [
       "6614"
      ]
     },
     "execution_count": 7,
     "metadata": {},
     "output_type": "execute_result"
    }
   ],
   "source": [
    "bids.bidder_id.nunique()"
   ]
  },
  {
   "cell_type": "code",
   "execution_count": 8,
   "metadata": {},
   "outputs": [
    {
     "data": {
      "text/plain": [
       "(7656334, 14)"
      ]
     },
     "execution_count": 8,
     "metadata": {},
     "output_type": "execute_result"
    }
   ],
   "source": [
    "bids[\"deltatime_id\"]      = bids.groupby(\"bidder_id\")['time'].diff()\n",
    "bids['nbids']             = bids.groupby('bidder_id')['bidder_id'].transform('count')\n",
    "bids['mean_deltatime_id'] = bids['deltatime_id']/bids['nbids']\n",
    "bids['number_ip_id']      = bids.groupby(['bidder_id'])[\"ip\"].transform('nunique')\n",
    "bids['number_url_id']     = bids.groupby(['bidder_id'])[\"url\"].transform('nunique')\n",
    "bids['time_range']        = bids.groupby(['bidder_id'])['time'].max() - bids.groupby(['bidder_id'])['time'].min()\n",
    "bids.shape"
   ]
  },
  {
   "cell_type": "markdown",
   "metadata": {},
   "source": [
    "The bids_id dataframe contains aggregrate values which might be useful for the model.\n",
    "    \n",
    "    -nbids: represents the number of bids per bidder id\n",
    "    -mean_deltatime_id: represents the average time difference between two bids per bidder id.\n",
    "    -number_ip_id: The number of ip address used by a single bidder id\n",
    "    -number_url_id: The number of urls used by a single bidder id\n",
    "    -time_range: The time between the first and last bids per bidder id\n",
    "    -mean_deltatime_auction: the average duration between bids per auction and bidder.\n",
    "    -mean_deltatime_auction_id: The average of the average bid length per bidder id\n",
    "    -mean_nbids_auction_id: mean number of bids per auction per biider id.\n",
    "    -entropy_ip: the ip entropy for each bidder \n",
    "    -entropy_url: the url entropy for each bidder"
   ]
  },
  {
   "cell_type": "code",
   "execution_count": 15,
   "metadata": {},
   "outputs": [],
   "source": [
    "nbids             = pd.DataFrame(bids.groupby('bidder_id')['bidder_id'].count())\n",
    "mean_deltatime_id = pd.DataFrame(bids.groupby('bidder_id')['deltatime_id'].mean())\n",
    "number_ip_id      = pd.DataFrame(bids.groupby(['bidder_id'])[\"ip\"].nunique())\n",
    "number_url_id     = pd.DataFrame(bids.groupby(['bidder_id'])[\"url\"].nunique())\n",
    "time_range        = pd.DataFrame(bids.groupby('bidder_id')['time'].max() - bids.groupby('bidder_id')['time'].min())\n",
    "min_delta_time    = pd.DataFrame(bids.loc[:,['bidder_id','deltatime_id']].groupby('bidder_id')['deltatime_id'].min()).rename(columns={\"deltatime_id\":\"min_delta_time\"})\n",
    "\n",
    "bids_id           = nbids.join(mean_deltatime_id).join(number_ip_id).join(number_url_id).join(time_range).join(min_delta_time)\n",
    "bids_id           = bids_id.rename(columns={\"bidder_id\": \"nbids\", 'deltatime_id' : \"mean_deltatime_id\", \"ip\" : \"number_ip_id\", \"url\":\"number_url_id\", \"time\": \"time_range\" }).reset_index(drop=False)\n",
    "\n",
    "mean_deltatime_auction    = bids.groupby([\"bidder_id\",'auction'])[\"deltatime_id\"].mean().reset_index(drop=False)\n",
    "mean_deltatime_auction_id = mean_deltatime_auction.groupby([\"bidder_id\"]).mean().reset_index(drop=False)\n",
    "nbids_auction             = pd.DataFrame(bids.groupby([\"bidder_id\",'auction'])[\"auction\"].count())\n",
    "mean_nbids_auction_id     = nbids_auction.groupby([\"bidder_id\"]).mean().rename(columns={\"auction\":\"mean_nbids_auction_id\"})\n",
    "\n",
    "bids_id                   = bids_id.set_index('bidder_id').join(mean_deltatime_auction_id.set_index('bidder_id')).join(mean_nbids_auction_id)\n",
    "bids_id                   = bids_id.rename(columns={\"deltatime_id\": \"mean_deltatime_auction_id\"})"
   ]
  },
  {
   "cell_type": "markdown",
   "metadata": {},
   "source": [
    "This section is used to compute the ip entropy per user. The ip entropy is a measure used to evaluate the randomness of a variable, as well as the number of bids and the number of bids per ip. It has the following equation:\n",
    "$$ IP, Entropy = \\frac{N_{bids}!}{N_{ip,1}!N_{ip,2}!...N_{ip,n}!}$$\n",
    "Where N represents the total number of bids done by the bidder, N_{ip,1} represents the number of bids done by the bidder on one ip address and so on.\n",
    "\n",
    "The process of getting the ip entropy is the following:\n",
    "    1. Compute the factorial of total number of bids per bidder id.\n",
    "    2. Count the number of time the same ip was used by the user.\n",
    "    3. Find the factorial of each of those numbers.\n",
    "    4. Multiple those factorials for each bidder id.\n",
    "    5. Join with the bid_id DataFrame.\n",
    "    6. Finally divide step 1 by step 4 and take the log10 of that result.\n",
    "    "
   ]
  },
  {
   "cell_type": "markdown",
   "metadata": {},
   "source": [
    "THIS STEP IS TAKING SOME TIME TO RUN"
   ]
  },
  {
   "cell_type": "code",
   "execution_count": null,
   "metadata": {},
   "outputs": [],
   "source": [
    "bids_id['entropy_ip'] = bids_id['nbids'].apply(math.factorial)\n",
    "temp                  = pd.DataFrame(bids.groupby(['bidder_id','ip'])['ip'].count()).rename(columns ={'ip': 'nb_per_ip'}).reset_index(drop=False)\n",
    "temp                  = temp.groupby(['bidder_id','ip'])['nb_per_ip'].apply(math.factorial).reset_index(drop=False)\n",
    "temp                  = temp.groupby('bidder_id')['nb_per_ip'].prod().reset_index(drop=False)\n",
    "bids_id               = bids_id.join(temp.set_index('bidder_id'))\n",
    "bids_id['entropy_ip'] = bids_id['entropy_ip']//bids_id['nb_per_ip']\n",
    "bids_id.head()\n"
   ]
  },
  {
   "cell_type": "markdown",
   "metadata": {},
   "source": [
    "The same was done to obtain the URL entropy. The same steps as those to obtain the ip entropy were used. We have therefore the following formula:\n",
    "$$ URL, Entropy = \\frac{N_{bids}!}{N_{url,1}!N_{url,2}!...N_{url,n}!}$$ "
   ]
  },
  {
   "cell_type": "raw",
   "metadata": {},
   "source": [
    "THIS ONE TO"
   ]
  },
  {
   "cell_type": "code",
   "execution_count": null,
   "metadata": {},
   "outputs": [],
   "source": [
    "bids_id['entropy_url'] = bids_id['nbids'].apply(math.factorial)\n",
    "temp                   = pd.DataFrame(bids.groupby(['bidder_id','url'])['url'].count()).rename(columns ={'url': 'nb_per_url'}).reset_index(drop=False)\n",
    "temp                   = temp.groupby(['bidder_id','url'])['nb_per_url'].apply(math.factorial).reset_index(drop=False)\n",
    "temp                   = temp.groupby('bidder_id')['nb_per_url'].prod().reset_index(drop=False)\n",
    "bids_id                = bids_id.join(temp.set_index('bidder_id'))\n",
    "bids_id['entropy_url'] = bids_id['entropy_url']//bids_id['nb_per_url']\n",
    "bids_id.head()"
   ]
  },
  {
   "cell_type": "code",
   "execution_count": null,
   "metadata": {},
   "outputs": [],
   "source": [
    "#creation of our ratio, lets assume that the time is in miliseconds, a per day ratio seems understandable\n",
    "bids['nb_bets_per_time_range'] = bids.nbids/bids.time_range*86400000\n",
    "bids.head(10)"
   ]
  },
  {
   "cell_type": "markdown",
   "metadata": {},
   "source": [
    "We have one huge data set where we will have to understand and use informations (bids) and another one where we have to predict based on the user key. \n",
    "\n",
    "Lets first add the outcome in the bids dataframe in order to be able to recognize which account are corrupted just by looking at the bids table. \n",
    "We are expecting a lot of NaN since all accounts in \"bids\" are not all idifiented as clear or bots"
   ]
  },
  {
   "cell_type": "code",
   "execution_count": null,
   "metadata": {
    "scrolled": false
   },
   "outputs": [],
   "source": [
    "#seems optional and dispensable at this point\n",
    "train_prejoin = pd.DataFrame(train.loc[:,['bidder_id','outcome']])\n",
    "bids1 = bids.join(train_prejoin.set_index('bidder_id'),on='bidder_id')\n",
    "print(bids1.shape)\n",
    "bids1.head(10)\n",
    "\n"
   ]
  },
  {
   "cell_type": "markdown",
   "metadata": {},
   "source": [
    "\n",
    "\n",
    "Getting the data created thanks to the bids dataframe joined in the accounts data frame. This is where we are going to apply our algorithm\n",
    "\n"
   ]
  },
  {
   "cell_type": "code",
   "execution_count": null,
   "metadata": {},
   "outputs": [],
   "source": [
    "bids_prejoin = bids_id.loc[:,[\"nbids\", \"mean_deltatime_id\", \"time_range\", \"deltatime_id\",\"entropy_ip\",\"entropy_url\",\"min_delta_time\",\"mean_deltatime_auction_id\",\"mean_nbids_auction_id\"]]\n",
    "trainjoin = train.set_index('bidder_id').join(bids_prejoin)\n",
    "trainjoin.head(10)\n"
   ]
  },
  {
   "cell_type": "code",
   "execution_count": null,
   "metadata": {},
   "outputs": [],
   "source": [
    "trainjoin = trainjoin.replace([np.inf, -np.inf], np.nan)\n",
    "trainjoin = trainjoin.dropna(subset=['nbids','min_delta_time','mean_deltatime_auction_id'])\n",
    "trainjoin.head(10)"
   ]
  },
  {
   "cell_type": "markdown",
   "metadata": {},
   "source": [
    "#  2- Graphic representation of the Results:"
   ]
  },
  {
   "cell_type": "code",
   "execution_count": null,
   "metadata": {},
   "outputs": [],
   "source": [
    "plt.figure()\n",
    "plt.subplot(1,2,1)\n",
    "plt.hist([trainjoin.nbids[trainjoin[\"outcome\"]==1].apply(lambda x: math.log10(x))],bins =30, color = ['red'])\n",
    "plt.xlabel('logarithm of number of bids')\n",
    "plt.ylabel('number of users')\n",
    "plt.title('Accounts identified as Bots')\n",
    "plt.subplot(1,2,2)\n",
    "plt.hist([trainjoin.nbids[trainjoin[\"outcome\"]==0].apply(lambda x: math.log10(x))],bins=30, color = ['blue'])\n",
    "plt.xlabel('logarithm of number of bids')\n",
    "plt.ylabel('number of users')\n",
    "plt.title('Accounts not identified as Bots')\n",
    "plt.show()"
   ]
  },
  {
   "cell_type": "code",
   "execution_count": null,
   "metadata": {},
   "outputs": [],
   "source": [
    "plt.figure()\n",
    "plt.subplot(1,2,1)\n",
    "plt.hist([trainjoin.mean_nbids_auction_id[trainjoin[\"outcome\"]==1].apply(lambda x: math.log10(x))],bins =30, color = ['red'])\n",
    "plt.xlabel('logarithm of number of bids')\n",
    "plt.ylabel('number of users')\n",
    "plt.title('Accounts identified as Bots')\n",
    "plt.subplot(1,2,2)\n",
    "plt.hist([trainjoin.mean_nbids_auction_id[trainjoin[\"outcome\"]==0].apply(lambda x: math.log10(x))],bins=30, color = ['blue'])\n",
    "plt.xlabel('logarithm of number of bids')\n",
    "plt.ylabel('number of users')\n",
    "plt.title('Accounts not identified as Bots')\n",
    "plt.show()"
   ]
  },
  {
   "cell_type": "code",
   "execution_count": null,
   "metadata": {},
   "outputs": [],
   "source": [
    "plt.figure()\n",
    "plt.subplot(1,2,1)\n",
    "plt.hist([trainjoin.entropy_ip[trainjoin[\"outcome\"]==1].apply(lambda x: math.log10(x))],bins =30, color = ['red'])\n",
    "plt.xlabel('entropy of ip, log based')\n",
    "plt.ylabel('frequency')\n",
    "plt.title('entropy of ip, log based')\n",
    "plt.subplot(1,2,2)\n",
    "plt.hist([trainjoin.entropy_ip[trainjoin[\"outcome\"]==0].apply(lambda x: math.log10(x))],bins=30, color = ['blue'])\n",
    "plt.xlabel('entropy of ip, log based')\n",
    "plt.ylabel('frequency')\n",
    "plt.title('Accounts not identified as Bots')\n",
    "plt.show()"
   ]
  },
  {
   "cell_type": "code",
   "execution_count": null,
   "metadata": {},
   "outputs": [],
   "source": [
    "plt.figure()\n",
    "plt.subplot(1,2,1)\n",
    "plt.hist([trainjoin.entropy_url[trainjoin[\"outcome\"]==1].apply(lambda x: math.log10(x))],bins =30, color = ['red'],label = ['bot'])\n",
    "plt.xlabel('entropy of url, log based')\n",
    "plt.ylabel('frequency')\n",
    "plt.title('entropy of url, log based')\n",
    "plt.subplot(1,2,2)\n",
    "plt.hist([trainjoin.entropy_url[trainjoin[\"outcome\"]==0].apply(lambda x: math.log10(x))],bins=30, color = ['blue'],label = ['not a bot'])\n",
    "plt.xlabel('entropy of url, log based')\n",
    "plt.ylabel('frequency')\n",
    "plt.title('Accounts not identified as Bots')\n",
    "plt.show()"
   ]
  },
  {
   "cell_type": "code",
   "execution_count": null,
   "metadata": {},
   "outputs": [],
   "source": [
    "filter_zero = trainjoin[trainjoin[\"min_delta_time\"]!=0]\n",
    "\n",
    "plt.figure()\n",
    "plt.subplot(1,2,1)\n",
    "plt.hist([filter_zero.min_delta_time[filter_zero[\"outcome\"]==1].apply(lambda x: math.log10(x))],bins =30, color = ['red'],label = ['bot'])\n",
    "plt.xlabel('minimimun time between bids, log based')\n",
    "plt.ylabel('number of users')\n",
    "plt.title('Accounts identified as Bots')\n",
    "plt.subplot(1,2,2)\n",
    "plt.hist([filter_zero.min_delta_time[filter_zero[\"outcome\"]==0].apply(lambda x: math.log10(x))],bins=30, color = ['blue'],label = ['not a bot'])\n",
    "plt.xlabel('minimimun time between bids, log based')\n",
    "plt.ylabel('number of users')\n",
    "plt.title('Accounts not identified as Bots')\n",
    "plt.show()"
   ]
  },
  {
   "cell_type": "code",
   "execution_count": null,
   "metadata": {},
   "outputs": [],
   "source": [
    "plt.figure()\n",
    "plt.subplot(1,2,1)\n",
    "plt.hist([trainjoin.mean_deltatime_auction_id[trainjoin[\"outcome\"]==1].apply(lambda x: math.log10(x))],bins =30, color = ['red'],label = ['bot'])\n",
    "plt.xlabel('logarithm of number of bids')\n",
    "plt.ylabel('number of users')\n",
    "plt.title('Accounts identified as Bots')\n",
    "plt.subplot(1,2,2)\n",
    "plt.hist([trainjoin.mean_deltatime_auction_id[trainjoin[\"outcome\"]==0].apply(lambda x: math.log10(x))],bins=30, color = ['blue'],label = ['not a bot'])\n",
    "plt.xlabel('logarithm of number of bids')\n",
    "plt.ylabel('number of users')\n",
    "plt.title('Accounts not identified as Bots')\n",
    "plt.show()"
   ]
  },
  {
   "cell_type": "markdown",
   "metadata": {},
   "source": [
    "# 3- Model Selection:\n",
    "\n",
    "This section is focused on selecting the correct model in order to predict whether or not a bidder_id is a bot. We focused on choosing an XGboost program using sklearn. "
   ]
  },
  {
   "cell_type": "code",
   "execution_count": null,
   "metadata": {},
   "outputs": [],
   "source": [
    "\n",
    "trainjoin.fillna(-1,inplace = True)\n",
    "print(trainjoin.isna().sum())\n",
    "trainjoin.head(10)"
   ]
  },
  {
   "cell_type": "code",
   "execution_count": null,
   "metadata": {},
   "outputs": [],
   "source": [
    "X = trainjoin.iloc[:,4:12]\n",
    "Y = trainjoin.iloc[:,3]\n",
    "\n",
    "seed = 77\n",
    "test_size = 0.2\n",
    "X_train, X_test, y_train, y_test = train_test_split(X, Y, test_size=test_size, random_state=seed)"
   ]
  },
  {
   "cell_type": "markdown",
   "metadata": {},
   "source": [
    "Defining early stopping value"
   ]
  },
  {
   "cell_type": "code",
   "execution_count": 32,
   "metadata": {},
   "outputs": [
    {
     "ename": "ValueError",
     "evalue": "DataFrame.dtypes for data must be int, float or bool.\n                Did not expect the data types in fields entropy_ip, entropy_url",
     "output_type": "error",
     "traceback": [
      "\u001b[1;31m---------------------------------------------------------------------------\u001b[0m",
      "\u001b[1;31mValueError\u001b[0m                                Traceback (most recent call last)",
      "\u001b[1;32m<ipython-input-32-a914c7514117>\u001b[0m in \u001b[0;36m<module>\u001b[1;34m\u001b[0m\n\u001b[0;32m      2\u001b[0m \u001b[0meval_set\u001b[0m  \u001b[1;33m=\u001b[0m \u001b[1;33m[\u001b[0m\u001b[1;33m(\u001b[0m\u001b[0mX_train\u001b[0m\u001b[1;33m,\u001b[0m\u001b[0my_train\u001b[0m\u001b[1;33m)\u001b[0m\u001b[1;33m,\u001b[0m \u001b[1;33m(\u001b[0m\u001b[0mX_test\u001b[0m\u001b[1;33m,\u001b[0m\u001b[0my_test\u001b[0m\u001b[1;33m)\u001b[0m\u001b[1;33m]\u001b[0m\u001b[1;33m\u001b[0m\u001b[1;33m\u001b[0m\u001b[0m\n\u001b[0;32m      3\u001b[0m clf.fit(X_train, y_train, eval_set=eval_set,\n\u001b[1;32m----> 4\u001b[1;33m         eval_metric=\"auc\", early_stopping_rounds=30)\n\u001b[0m",
      "\u001b[1;32mD:\\Program Files (x86)\\Anaconda\\lib\\site-packages\\xgboost\\sklearn.py\u001b[0m in \u001b[0;36mfit\u001b[1;34m(self, X, y, sample_weight, eval_set, eval_metric, early_stopping_rounds, verbose, xgb_model, sample_weight_eval_set, callbacks)\u001b[0m\n\u001b[0;32m    689\u001b[0m                         \u001b[0mmissing\u001b[0m\u001b[1;33m=\u001b[0m\u001b[0mself\u001b[0m\u001b[1;33m.\u001b[0m\u001b[0mmissing\u001b[0m\u001b[1;33m,\u001b[0m \u001b[0mweight\u001b[0m\u001b[1;33m=\u001b[0m\u001b[0msample_weight_eval_set\u001b[0m\u001b[1;33m[\u001b[0m\u001b[0mi\u001b[0m\u001b[1;33m]\u001b[0m\u001b[1;33m,\u001b[0m\u001b[1;33m\u001b[0m\u001b[1;33m\u001b[0m\u001b[0m\n\u001b[0;32m    690\u001b[0m                         nthread=self.n_jobs)\n\u001b[1;32m--> 691\u001b[1;33m                 \u001b[1;32mfor\u001b[0m \u001b[0mi\u001b[0m \u001b[1;32min\u001b[0m \u001b[0mrange\u001b[0m\u001b[1;33m(\u001b[0m\u001b[0mlen\u001b[0m\u001b[1;33m(\u001b[0m\u001b[0meval_set\u001b[0m\u001b[1;33m)\u001b[0m\u001b[1;33m)\u001b[0m\u001b[1;33m\u001b[0m\u001b[1;33m\u001b[0m\u001b[0m\n\u001b[0m\u001b[0;32m    692\u001b[0m             )\n\u001b[0;32m    693\u001b[0m             \u001b[0mnevals\u001b[0m \u001b[1;33m=\u001b[0m \u001b[0mlen\u001b[0m\u001b[1;33m(\u001b[0m\u001b[0mevals\u001b[0m\u001b[1;33m)\u001b[0m\u001b[1;33m\u001b[0m\u001b[1;33m\u001b[0m\u001b[0m\n",
      "\u001b[1;32mD:\\Program Files (x86)\\Anaconda\\lib\\site-packages\\xgboost\\sklearn.py\u001b[0m in \u001b[0;36m<genexpr>\u001b[1;34m(.0)\u001b[0m\n\u001b[0;32m    689\u001b[0m                         \u001b[0mmissing\u001b[0m\u001b[1;33m=\u001b[0m\u001b[0mself\u001b[0m\u001b[1;33m.\u001b[0m\u001b[0mmissing\u001b[0m\u001b[1;33m,\u001b[0m \u001b[0mweight\u001b[0m\u001b[1;33m=\u001b[0m\u001b[0msample_weight_eval_set\u001b[0m\u001b[1;33m[\u001b[0m\u001b[0mi\u001b[0m\u001b[1;33m]\u001b[0m\u001b[1;33m,\u001b[0m\u001b[1;33m\u001b[0m\u001b[1;33m\u001b[0m\u001b[0m\n\u001b[0;32m    690\u001b[0m                         nthread=self.n_jobs)\n\u001b[1;32m--> 691\u001b[1;33m                 \u001b[1;32mfor\u001b[0m \u001b[0mi\u001b[0m \u001b[1;32min\u001b[0m \u001b[0mrange\u001b[0m\u001b[1;33m(\u001b[0m\u001b[0mlen\u001b[0m\u001b[1;33m(\u001b[0m\u001b[0meval_set\u001b[0m\u001b[1;33m)\u001b[0m\u001b[1;33m)\u001b[0m\u001b[1;33m\u001b[0m\u001b[1;33m\u001b[0m\u001b[0m\n\u001b[0m\u001b[0;32m    692\u001b[0m             )\n\u001b[0;32m    693\u001b[0m             \u001b[0mnevals\u001b[0m \u001b[1;33m=\u001b[0m \u001b[0mlen\u001b[0m\u001b[1;33m(\u001b[0m\u001b[0mevals\u001b[0m\u001b[1;33m)\u001b[0m\u001b[1;33m\u001b[0m\u001b[1;33m\u001b[0m\u001b[0m\n",
      "\u001b[1;32mD:\\Program Files (x86)\\Anaconda\\lib\\site-packages\\xgboost\\core.py\u001b[0m in \u001b[0;36m__init__\u001b[1;34m(self, data, label, missing, weight, silent, feature_names, feature_types, nthread)\u001b[0m\n\u001b[0;32m    382\u001b[0m         data, feature_names, feature_types = _maybe_pandas_data(data,\n\u001b[0;32m    383\u001b[0m                                                                 \u001b[0mfeature_names\u001b[0m\u001b[1;33m,\u001b[0m\u001b[1;33m\u001b[0m\u001b[1;33m\u001b[0m\u001b[0m\n\u001b[1;32m--> 384\u001b[1;33m                                                                 feature_types)\n\u001b[0m\u001b[0;32m    385\u001b[0m \u001b[1;33m\u001b[0m\u001b[0m\n\u001b[0;32m    386\u001b[0m         data, feature_names, feature_types = _maybe_dt_data(data,\n",
      "\u001b[1;32mD:\\Program Files (x86)\\Anaconda\\lib\\site-packages\\xgboost\\core.py\u001b[0m in \u001b[0;36m_maybe_pandas_data\u001b[1;34m(data, feature_names, feature_types)\u001b[0m\n\u001b[0;32m    239\u001b[0m         msg = \"\"\"DataFrame.dtypes for data must be int, float or bool.\n\u001b[0;32m    240\u001b[0m                 Did not expect the data types in fields \"\"\"\n\u001b[1;32m--> 241\u001b[1;33m         \u001b[1;32mraise\u001b[0m \u001b[0mValueError\u001b[0m\u001b[1;33m(\u001b[0m\u001b[0mmsg\u001b[0m \u001b[1;33m+\u001b[0m \u001b[1;34m', '\u001b[0m\u001b[1;33m.\u001b[0m\u001b[0mjoin\u001b[0m\u001b[1;33m(\u001b[0m\u001b[0mbad_fields\u001b[0m\u001b[1;33m)\u001b[0m\u001b[1;33m)\u001b[0m\u001b[1;33m\u001b[0m\u001b[1;33m\u001b[0m\u001b[0m\n\u001b[0m\u001b[0;32m    242\u001b[0m \u001b[1;33m\u001b[0m\u001b[0m\n\u001b[0;32m    243\u001b[0m     \u001b[1;32mif\u001b[0m \u001b[0mfeature_names\u001b[0m \u001b[1;32mis\u001b[0m \u001b[1;32mNone\u001b[0m\u001b[1;33m:\u001b[0m\u001b[1;33m\u001b[0m\u001b[1;33m\u001b[0m\u001b[0m\n",
      "\u001b[1;31mValueError\u001b[0m: DataFrame.dtypes for data must be int, float or bool.\n                Did not expect the data types in fields entropy_ip, entropy_url"
     ]
    }
   ],
   "source": [
    "clf = XGBClassifier()\n",
    "eval_set  = [(X_train,y_train), (X_test,y_test)]\n",
    "clf.fit(X_train, y_train, eval_set=eval_set,\n",
    "        eval_metric=\"auc\", early_stopping_rounds=30)"
   ]
  },
  {
   "cell_type": "code",
   "execution_count": null,
   "metadata": {},
   "outputs": [],
   "source": [
    "model = XGBClassifier(early_stopping = 2)\n",
    "model.fit(X_train, y_train)\n",
    "print(model)"
   ]
  },
  {
   "cell_type": "code",
   "execution_count": null,
   "metadata": {},
   "outputs": [],
   "source": [
    "y_pred = model.predict(X_test)\n",
    "predictions = [round(value) for value in y_pred]\n",
    "\n",
    "\n",
    "Conf_matrix= confusion_matrix(y_test,y_pred)\n",
    "TN, FP, FN, TP = Conf_matrix[0,0],Conf_matrix[0,1],Conf_matrix[1,0],Conf_matrix[1,1]\n",
    "TNR, TPR, PPV, NPV = TN/(TN+FP), TP/(FN + TP), TP/(FP+TP),TN/(TN+FN)\n",
    "print(Conf_matrix)\n",
    "print('True Negative Rate :', TNR, '\\n'\n",
    "      'True Positive Rate :', TPR, '\\n'\n",
    "      'Positive Predictive Value :', PPV, '\\n' \n",
    "      'Negative Predictive Value :' ,NPV )\n",
    "\n",
    "\n",
    "accuracy = accuracy_score(y_test, predictions)\n",
    "print(\"Accuracy: %.2f%%\" % (accuracy * 100.0))"
   ]
  },
  {
   "cell_type": "markdown",
   "metadata": {},
   "source": [
    "Cross_Validation"
   ]
  },
  {
   "cell_type": "code",
   "execution_count": null,
   "metadata": {},
   "outputs": [],
   "source": [
    "\n",
    "kfold = KFold(n_splits=5, random_state=77)\n",
    "results = cross_val_score(model, X, Y, cv=kfold)\n",
    "print(\"Accuracy: %.2f%% (%.2f%%)\" % (results.mean()*100, results.std()*100))"
   ]
  },
  {
   "cell_type": "markdown",
   "metadata": {},
   "source": [
    "Preparation of the Data for Kaggle"
   ]
  },
  {
   "cell_type": "code",
   "execution_count": null,
   "metadata": {},
   "outputs": [],
   "source": [
    "test = pd.read_csv(\"Downloads/test.csv\")\n",
    "print(test.shape)\n",
    "test.head(10)\n",
    "\n"
   ]
  },
  {
   "cell_type": "code",
   "execution_count": null,
   "metadata": {},
   "outputs": [],
   "source": [
    "bids_prejoin = bids.loc[:,['bidder_id','nbids','time_range','nb_bets/time_range']]\n",
    "\n",
    "testjoin = pd.merge(test,bids_prejoin,\n",
    "                 on='bidder_id',\n",
    "                   how = 'left')\n",
    "\n",
    "testjoin.drop_duplicates(inplace=True)\n",
    "\n",
    "print(testjoin.shape)\n",
    "testjoin.head(10)"
   ]
  },
  {
   "cell_type": "code",
   "execution_count": null,
   "metadata": {},
   "outputs": [],
   "source": [
    "testjoin.dropna(subset = ['bidder_id'], inplace = True)\n",
    "\n",
    "testjoin.head(10)\n",
    "print(testjoin.shape)"
   ]
  },
  {
   "cell_type": "code",
   "execution_count": null,
   "metadata": {},
   "outputs": [],
   "source": [
    "testjoin.fillna(-1,inplace = True)\n",
    "print(testjoin.isna().sum())\n",
    "testjoin.head(10)"
   ]
  },
  {
   "cell_type": "code",
   "execution_count": null,
   "metadata": {},
   "outputs": [],
   "source": [
    "X_final = testjoin.iloc[:,3:6]\n",
    "\n",
    "y_final = model.predict(X_final)\n",
    "\n",
    "print(len(y_final))\n",
    "print(y_final)\n",
    "predictions = [round(value) for value in y_pred]\n",
    "print(len(predictions))\n",
    "\n",
    "test['outcome'] = y_final"
   ]
  },
  {
   "cell_type": "code",
   "execution_count": null,
   "metadata": {},
   "outputs": [],
   "source": [
    "test.head(10)"
   ]
  },
  {
   "cell_type": "code",
   "execution_count": null,
   "metadata": {},
   "outputs": [],
   "source": [
    "test2 = test\n",
    "test2.to_csv('Downloads/test2.csv',sep = ',')"
   ]
  }
 ],
 "metadata": {
  "kernelspec": {
   "display_name": "Python 3",
   "language": "python",
   "name": "python3"
  },
  "language_info": {
   "codemirror_mode": {
    "name": "ipython",
    "version": 3
   },
   "file_extension": ".py",
   "mimetype": "text/x-python",
   "name": "python",
   "nbconvert_exporter": "python",
   "pygments_lexer": "ipython3",
   "version": "3.7.1"
  }
 },
 "nbformat": 4,
 "nbformat_minor": 2
}
